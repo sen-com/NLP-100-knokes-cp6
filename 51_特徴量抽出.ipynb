{
  "nbformat": 4,
  "nbformat_minor": 0,
  "metadata": {
    "colab": {
      "name": "51. 特徴量抽出.ipynb",
      "provenance": [],
      "authorship_tag": "ABX9TyOQxePqp86x55Q8hU5Ujcgl",
      "include_colab_link": true
    },
    "kernelspec": {
      "name": "python3",
      "display_name": "Python 3"
    },
    "accelerator": "GPU"
  },
  "cells": [
    {
      "cell_type": "markdown",
      "metadata": {
        "id": "view-in-github",
        "colab_type": "text"
      },
      "source": [
        "<a href=\"https://colab.research.google.com/github/sen-com/NLP-100-knokes-cp6/blob/main/51_%E7%89%B9%E5%BE%B4%E9%87%8F%E6%8A%BD%E5%87%BA.ipynb\" target=\"_parent\"><img src=\"https://colab.research.google.com/assets/colab-badge.svg\" alt=\"Open In Colab\"/></a>"
      ]
    },
    {
      "cell_type": "code",
      "metadata": {
        "id": "DrBUrLCMStzE",
        "outputId": "2ccc1345-1345-4a0e-9f02-0881fdb57cfd",
        "colab": {
          "base_uri": "https://localhost:8080/"
        }
      },
      "source": [
        "# 学習データ，検証データ，評価データから特徴量を抽出し，それぞれtrain.feature.txt，valid.feature.txt，test.feature.txtというファイル名で保存せよ． \n",
        "# なお，カテゴリ分類に有用そうな特徴量は各自で自由に設計せよ．\n",
        "# 記事の見出しを単語列に変換したものが最低限のベースラインとなるであろう．\n",
        "!wget https://archive.ics.uci.edu/ml/machine-learning-databases/00359/NewsAggregatorDataset.zip\n",
        "!unzip NewsAggregatorDataset.zip"
      ],
      "execution_count": 1,
      "outputs": [
        {
          "output_type": "stream",
          "text": [
            "--2020-11-15 13:00:10--  https://archive.ics.uci.edu/ml/machine-learning-databases/00359/NewsAggregatorDataset.zip\n",
            "Resolving archive.ics.uci.edu (archive.ics.uci.edu)... 128.195.10.252\n",
            "Connecting to archive.ics.uci.edu (archive.ics.uci.edu)|128.195.10.252|:443... connected.\n",
            "HTTP request sent, awaiting response... 200 OK\n",
            "Length: 29224203 (28M) [application/x-httpd-php]\n",
            "Saving to: ‘NewsAggregatorDataset.zip’\n",
            "\n",
            "NewsAggregatorDatas 100%[===================>]  27.87M  8.87MB/s    in 3.4s    \n",
            "\n",
            "2020-11-15 13:00:14 (8.10 MB/s) - ‘NewsAggregatorDataset.zip’ saved [29224203/29224203]\n",
            "\n",
            "Archive:  NewsAggregatorDataset.zip\n",
            "  inflating: 2pageSessions.csv       \n",
            "   creating: __MACOSX/\n",
            "  inflating: __MACOSX/._2pageSessions.csv  \n",
            "  inflating: newsCorpora.csv         \n",
            "  inflating: __MACOSX/._newsCorpora.csv  \n",
            "  inflating: readme.txt              \n",
            "  inflating: __MACOSX/._readme.txt   \n"
          ],
          "name": "stdout"
        }
      ]
    },
    {
      "cell_type": "code",
      "metadata": {
        "id": "IuccSEmgTGSe",
        "outputId": "69c23f6b-0b88-4ad2-a378-bd42c943657f",
        "colab": {
          "base_uri": "https://localhost:8080/"
        }
      },
      "source": [
        "!wc -l newsCorpora.csv"
      ],
      "execution_count": 2,
      "outputs": [
        {
          "output_type": "stream",
          "text": [
            "422937 newsCorpora.csv\n"
          ],
          "name": "stdout"
        }
      ]
    },
    {
      "cell_type": "code",
      "metadata": {
        "id": "UyXsKoEITLNd",
        "outputId": "2efedcea-bba4-47e7-d044-7b26db8d708f",
        "colab": {
          "base_uri": "https://localhost:8080/"
        }
      },
      "source": [
        "!head -10 newsCorpora.csv"
      ],
      "execution_count": 3,
      "outputs": [
        {
          "output_type": "stream",
          "text": [
            "1\tFed official says weak data caused by weather, should not slow taper\thttp://www.latimes.com/business/money/la-fi-mo-federal-reserve-plosser-stimulus-economy-20140310,0,1312750.story\\?track=rss\tLos Angeles Times\tb\tddUyU0VZz0BRneMioxUPQVP6sIxvM\twww.latimes.com\t1394470370698\n",
            "2\tFed's Charles Plosser sees high bar for change in pace of tapering\thttp://www.livemint.com/Politics/H2EvwJSK2VE6OF7iK1g3PP/Feds-Charles-Plosser-sees-high-bar-for-change-in-pace-of-ta.html\tLivemint\tb\tddUyU0VZz0BRneMioxUPQVP6sIxvM\twww.livemint.com\t1394470371207\n",
            "3\tUS open: Stocks fall after Fed official hints at accelerated tapering\thttp://www.ifamagazine.com/news/us-open-stocks-fall-after-fed-official-hints-at-accelerated-tapering-294436\tIFA Magazine\tb\tddUyU0VZz0BRneMioxUPQVP6sIxvM\twww.ifamagazine.com\t1394470371550\n",
            "4\tFed risks falling 'behind the curve', Charles Plosser says\thttp://www.ifamagazine.com/news/fed-risks-falling-behind-the-curve-charles-plosser-says-294430\tIFA Magazine\tb\tddUyU0VZz0BRneMioxUPQVP6sIxvM\twww.ifamagazine.com\t1394470371793\n",
            "5\tFed's Plosser: Nasty Weather Has Curbed Job Growth\thttp://www.moneynews.com/Economy/federal-reserve-charles-plosser-weather-job-growth/2014/03/10/id/557011\tMoneynews\tb\tddUyU0VZz0BRneMioxUPQVP6sIxvM\twww.moneynews.com\t1394470372027\n",
            "6\tPlosser: Fed May Have to Accelerate Tapering Pace\thttp://www.nasdaq.com/article/plosser-fed-may-have-to-accelerate-tapering-pace-20140310-00371\tNASDAQ\tb\tddUyU0VZz0BRneMioxUPQVP6sIxvM\twww.nasdaq.com\t1394470372212\n",
            "7\tFed's Plosser: Taper pace may be too slow\thttp://www.marketwatch.com/story/feds-plosser-taper-pace-may-be-too-slow-2014-03-10\\?reflink=MW_news_stmp\tMarketWatch\tb\tddUyU0VZz0BRneMioxUPQVP6sIxvM\twww.marketwatch.com\t1394470372405\n",
            "8\tFed's Plosser expects US unemployment to fall to 6.2% by the end of 2014\thttp://www.fxstreet.com/news/forex-news/article.aspx\\?storyid=23285020-b1b5-47ed-a8c4-96124bb91a39\tFXstreet.com\tb\tddUyU0VZz0BRneMioxUPQVP6sIxvM\twww.fxstreet.com\t1394470372615\n",
            "9\tUS jobs growth last month hit by weather:Fed President Charles Plosser\thttp://economictimes.indiatimes.com/news/international/business/us-jobs-growth-last-month-hit-by-weatherfed-president-charles-plosser/articleshow/31788000.cms\tEconomic Times\tb\tddUyU0VZz0BRneMioxUPQVP6sIxvM\teconomictimes.indiatimes.com\t1394470372792\n",
            "10\tECB unlikely to end sterilisation of SMP purchases - traders\thttp://www.iii.co.uk/news-opinion/reuters/news/152615\tInteractive Investor\tb\tdPhGU51DcrolUIMxbRm0InaHGA2XM\twww.iii.co.uk\t1394470501265\n"
          ],
          "name": "stdout"
        }
      ]
    },
    {
      "cell_type": "code",
      "metadata": {
        "id": "7F5FHLuLTpf0"
      },
      "source": [
        "# 読込時のエラー回避のためダブルクォーテーションをシングルクォーテーションに置換\n",
        "!sed -e 's/\"/'\\''/g' ./newsCorpora.csv > ./newsCorpora_re.csv"
      ],
      "execution_count": 4,
      "outputs": []
    },
    {
      "cell_type": "code",
      "metadata": {
        "id": "JLyWlJPkUGSt"
      },
      "source": [
        "import pandas as pd\n",
        "from sklearn.model_selection import train_test_split\n",
        "\n",
        "# データの読込\n",
        "df = pd.read_csv('./newsCorpora_re.csv', header=None, sep='\\t', names=['ID', 'TITLE', 'URL', 'PUBLISHER', 'CATEGORY', 'STORY', 'HOSTNAME', 'TIMESTAMP'])\n"
      ],
      "execution_count": 5,
      "outputs": []
    },
    {
      "cell_type": "code",
      "metadata": {
        "id": "SSW18COyWM-o",
        "outputId": "5a6f01d2-7535-4286-aca1-9db9eafcaeee",
        "colab": {
          "base_uri": "https://localhost:8080/",
          "height": 623
        }
      },
      "source": [
        "df.loc[df['PUBLISHER'].isin(['Reuters', 'Huffington Post', 'Businessweek', 'Contactmusic.com', 'Daily Mail'])]"
      ],
      "execution_count": 6,
      "outputs": [
        {
          "output_type": "execute_result",
          "data": {
            "text/html": [
              "<div>\n",
              "<style scoped>\n",
              "    .dataframe tbody tr th:only-of-type {\n",
              "        vertical-align: middle;\n",
              "    }\n",
              "\n",
              "    .dataframe tbody tr th {\n",
              "        vertical-align: top;\n",
              "    }\n",
              "\n",
              "    .dataframe thead th {\n",
              "        text-align: right;\n",
              "    }\n",
              "</style>\n",
              "<table border=\"1\" class=\"dataframe\">\n",
              "  <thead>\n",
              "    <tr style=\"text-align: right;\">\n",
              "      <th></th>\n",
              "      <th>ID</th>\n",
              "      <th>TITLE</th>\n",
              "      <th>URL</th>\n",
              "      <th>PUBLISHER</th>\n",
              "      <th>CATEGORY</th>\n",
              "      <th>STORY</th>\n",
              "      <th>HOSTNAME</th>\n",
              "      <th>TIMESTAMP</th>\n",
              "    </tr>\n",
              "  </thead>\n",
              "  <tbody>\n",
              "    <tr>\n",
              "      <th>12</th>\n",
              "      <td>13</td>\n",
              "      <td>Europe reaches crunch point on banking union</td>\n",
              "      <td>http://in.reuters.com/article/2014/03/10/eu-ba...</td>\n",
              "      <td>Reuters</td>\n",
              "      <td>b</td>\n",
              "      <td>dPhGU51DcrolUIMxbRm0InaHGA2XM</td>\n",
              "      <td>in.reuters.com</td>\n",
              "      <td>1394470501755</td>\n",
              "    </tr>\n",
              "    <tr>\n",
              "      <th>13</th>\n",
              "      <td>14</td>\n",
              "      <td>ECB FOCUS-Stronger euro drowns out ECB's messa...</td>\n",
              "      <td>http://in.reuters.com/article/2014/03/10/ecb-p...</td>\n",
              "      <td>Reuters</td>\n",
              "      <td>b</td>\n",
              "      <td>dPhGU51DcrolUIMxbRm0InaHGA2XM</td>\n",
              "      <td>in.reuters.com</td>\n",
              "      <td>1394470501948</td>\n",
              "    </tr>\n",
              "    <tr>\n",
              "      <th>19</th>\n",
              "      <td>20</td>\n",
              "      <td>Euro Anxieties Wane as Bunds Top Treasuries, S...</td>\n",
              "      <td>http://www.businessweek.com/news/2014-03-10/ge...</td>\n",
              "      <td>Businessweek</td>\n",
              "      <td>b</td>\n",
              "      <td>dPhGU51DcrolUIMxbRm0InaHGA2XM</td>\n",
              "      <td>www.businessweek.com</td>\n",
              "      <td>1394470503148</td>\n",
              "    </tr>\n",
              "    <tr>\n",
              "      <th>20</th>\n",
              "      <td>21</td>\n",
              "      <td>Noyer Says Strong Euro Creates Unwarranted Eco...</td>\n",
              "      <td>http://www.businessweek.com/news/2014-03-10/no...</td>\n",
              "      <td>Businessweek</td>\n",
              "      <td>b</td>\n",
              "      <td>dPhGU51DcrolUIMxbRm0InaHGA2XM</td>\n",
              "      <td>www.businessweek.com</td>\n",
              "      <td>1394470503366</td>\n",
              "    </tr>\n",
              "    <tr>\n",
              "      <th>29</th>\n",
              "      <td>30</td>\n",
              "      <td>REFILE-Bad loan triggers key feature in ECB ba...</td>\n",
              "      <td>http://in.reuters.com/article/2014/03/10/euroz...</td>\n",
              "      <td>Reuters</td>\n",
              "      <td>b</td>\n",
              "      <td>dPhGU51DcrolUIMxbRm0InaHGA2XM</td>\n",
              "      <td>in.reuters.com</td>\n",
              "      <td>1394470505070</td>\n",
              "    </tr>\n",
              "    <tr>\n",
              "      <th>...</th>\n",
              "      <td>...</td>\n",
              "      <td>...</td>\n",
              "      <td>...</td>\n",
              "      <td>...</td>\n",
              "      <td>...</td>\n",
              "      <td>...</td>\n",
              "      <td>...</td>\n",
              "      <td>...</td>\n",
              "    </tr>\n",
              "    <tr>\n",
              "      <th>422818</th>\n",
              "      <td>422819</td>\n",
              "      <td>UN: Ebola Could Eventually Infect 20000 People</td>\n",
              "      <td>http://www.huffingtonpost.com/2014/08/28/ebola...</td>\n",
              "      <td>Huffington Post</td>\n",
              "      <td>m</td>\n",
              "      <td>dhhnSHVoyA7ENBM3boDX_D_-3PV6M</td>\n",
              "      <td>www.huffingtonpost.com</td>\n",
              "      <td>1409228423333</td>\n",
              "    </tr>\n",
              "    <tr>\n",
              "      <th>422819</th>\n",
              "      <td>422820</td>\n",
              "      <td>Ebola toll tops 1550, continues to accelerate ...</td>\n",
              "      <td>http://in.reuters.com/article/2014/08/28/healt...</td>\n",
              "      <td>Reuters</td>\n",
              "      <td>m</td>\n",
              "      <td>dhhnSHVoyA7ENBM3boDX_D_-3PV6M</td>\n",
              "      <td>in.reuters.com</td>\n",
              "      <td>1409228423827</td>\n",
              "    </tr>\n",
              "    <tr>\n",
              "      <th>422820</th>\n",
              "      <td>422821</td>\n",
              "      <td>UPDATE 1-Ebola toll tops 1550, outbreak accele...</td>\n",
              "      <td>http://in.reuters.com/article/2014/08/28/healt...</td>\n",
              "      <td>Reuters</td>\n",
              "      <td>m</td>\n",
              "      <td>dhhnSHVoyA7ENBM3boDX_D_-3PV6M</td>\n",
              "      <td>in.reuters.com</td>\n",
              "      <td>1409228424525</td>\n",
              "    </tr>\n",
              "    <tr>\n",
              "      <th>422827</th>\n",
              "      <td>422828</td>\n",
              "      <td>Ebola Cases May Surpass 20000, WHO Says in Upd...</td>\n",
              "      <td>http://www.businessweek.com/news/2014-08-28/eb...</td>\n",
              "      <td>Businessweek</td>\n",
              "      <td>m</td>\n",
              "      <td>dhhnSHVoyA7ENBM3boDX_D_-3PV6M</td>\n",
              "      <td>www.businessweek.com</td>\n",
              "      <td>1409228426943</td>\n",
              "    </tr>\n",
              "    <tr>\n",
              "      <th>422837</th>\n",
              "      <td>422838</td>\n",
              "      <td>Air France suspends flights to Ebola-hit Sierr...</td>\n",
              "      <td>http://www.dailymail.co.uk/travel/travel_news/...</td>\n",
              "      <td>Daily Mail</td>\n",
              "      <td>m</td>\n",
              "      <td>dhhnSHVoyA7ENBM3boDX_D_-3PV6M</td>\n",
              "      <td>www.dailymail.co.uk</td>\n",
              "      <td>1409228430383</td>\n",
              "    </tr>\n",
              "  </tbody>\n",
              "</table>\n",
              "<p>13356 rows × 8 columns</p>\n",
              "</div>"
            ],
            "text/plain": [
              "            ID  ...      TIMESTAMP\n",
              "12          13  ...  1394470501755\n",
              "13          14  ...  1394470501948\n",
              "19          20  ...  1394470503148\n",
              "20          21  ...  1394470503366\n",
              "29          30  ...  1394470505070\n",
              "...        ...  ...            ...\n",
              "422818  422819  ...  1409228423333\n",
              "422819  422820  ...  1409228423827\n",
              "422820  422821  ...  1409228424525\n",
              "422827  422828  ...  1409228426943\n",
              "422837  422838  ...  1409228430383\n",
              "\n",
              "[13356 rows x 8 columns]"
            ]
          },
          "metadata": {
            "tags": []
          },
          "execution_count": 6
        }
      ]
    },
    {
      "cell_type": "code",
      "metadata": {
        "id": "lzSmpoPRWNeV"
      },
      "source": [
        "df = df.loc[df['PUBLISHER'].isin(['Reuters', 'Huffington Post', 'Businessweek', 'Contactmusic.com', 'Daily Mail']), ['TITLE', 'CATEGORY']]"
      ],
      "execution_count": 7,
      "outputs": []
    },
    {
      "cell_type": "code",
      "metadata": {
        "id": "egJKUjdrXP6X",
        "outputId": "2e139f5b-ac22-450f-9053-4d16ae0fbe9c",
        "colab": {
          "base_uri": "https://localhost:8080/"
        }
      },
      "source": [
        "train, valid_test = train_test_split(df, test_size=0.2, shuffle=True, random_state=123, stratify=df['CATEGORY'])\n",
        "valid, test = train_test_split(valid_test, test_size=0.5, shuffle=True, random_state=123, stratify=valid_test['CATEGORY'])\n",
        "\n",
        "train.to_csv('train.txt', sep='\\t', index=False)\n",
        "valid.to_csv('valid.txt', sep='\\t', index=False)\n",
        "test.to_csv('test.txt', sep='\\t', index=False)\n",
        "\n",
        "print('【学習データ】')\n",
        "print(train['CATEGORY'].value_counts())\n",
        "print('【検証データ】')\n",
        "print(valid['CATEGORY'].value_counts())\n",
        "print('【評価データ】')\n",
        "print(test['CATEGORY'].value_counts())"
      ],
      "execution_count": 8,
      "outputs": [
        {
          "output_type": "stream",
          "text": [
            "【学習データ】\n",
            "b    4501\n",
            "e    4235\n",
            "t    1220\n",
            "m     728\n",
            "Name: CATEGORY, dtype: int64\n",
            "【検証データ】\n",
            "b    563\n",
            "e    529\n",
            "t    153\n",
            "m     91\n",
            "Name: CATEGORY, dtype: int64\n",
            "【評価データ】\n",
            "b    563\n",
            "e    530\n",
            "t    152\n",
            "m     91\n",
            "Name: CATEGORY, dtype: int64\n"
          ],
          "name": "stdout"
        }
      ]
    },
    {
      "cell_type": "code",
      "metadata": {
        "id": "ndzjwY92_q_s",
        "outputId": "5c6321c4-280f-4990-af89-492402eaa0e2",
        "colab": {
          "base_uri": "https://localhost:8080/"
        }
      },
      "source": [
        "import string\n",
        "import re\n",
        "\n",
        "def preprocessing(text):\n",
        "  table = str.maketrans(string.punctuation, ' '*len(string.punctuation))\n",
        "  text = text.translate(table)  # 記号をスペースに置換\n",
        "  text = text.lower()  # 小文字化\n",
        "  text = re.sub('[0-9]+', '0', text)  # 数字列を0に置換\n",
        "  return text\n",
        "\n",
        "# データの再結合\n",
        "df = pd.concat([train, valid, test], axis=0)\n",
        "df.reset_index(drop=True, inplace=True)\n",
        "\n",
        "# 前処理の実施\n",
        "df['TITLE'] = df['TITLE'].map(lambda x: preprocessing(x))\n",
        "\n",
        "print(df.head())"
      ],
      "execution_count": 10,
      "outputs": [
        {
          "output_type": "stream",
          "text": [
            "                                               TITLE CATEGORY\n",
            "0  refile update 0 european car sales up for sixt...        b\n",
            "1  amazon plans to fight ftc over mobile app purc...        t\n",
            "2  kids still get codeine in emergency rooms desp...        m\n",
            "3  what on earth happened between solange and jay...        e\n",
            "4  nato missile defense is flight tested over hawaii        b\n"
          ],
          "name": "stdout"
        }
      ]
    },
    {
      "cell_type": "code",
      "metadata": {
        "id": "BDAdBpNmDNyr",
        "outputId": "b1347443-5af2-4e3a-8916-629b9f9a4c0b",
        "colab": {
          "base_uri": "https://localhost:8080/"
        }
      },
      "source": [
        "from sklearn.feature_extraction.text import TfidfVectorizer\n",
        "\n",
        "# データの分割\n",
        "train_valid = df[:len(train) + len(valid)]\n",
        "test = df[len(train) + len(valid):]\n",
        "\n",
        "# TfidfVectorizer\n",
        "vec_tfidf = TfidfVectorizer(min_df=10, ngram_range=(1, 2))  # ngram_rangeでTF-IDFを計算する単語の長さを指定\n",
        "\n",
        "# ベクトル化\n",
        "X_train_valid = vec_tfidf.fit_transform(train_valid['TITLE'])  # testの情報は使わない\n",
        "X_test = vec_tfidf.transform(test['TITLE'])\n",
        "\n",
        "# ベクトルをデータフレームに変換\n",
        "X_train_valid = pd.DataFrame(X_train_valid.toarray(), columns=vec_tfidf.get_feature_names())\n",
        "X_test = pd.DataFrame(X_test.toarray(), columns=vec_tfidf.get_feature_names())\n",
        "\n",
        "# データの分割\n",
        "X_train = X_train_valid[:len(train)]\n",
        "X_valid = X_train_valid[len(train):]\n",
        "\n",
        "# データの保存\n",
        "X_train.to_csv('./X_train.txt', sep='\\t', index=False)\n",
        "X_valid.to_csv('./X_valid.txt', sep='\\t', index=False)\n",
        "X_test.to_csv('./X_test.txt', sep='\\t', index=False)\n",
        "\n",
        "print(X_train.head())"
      ],
      "execution_count": 11,
      "outputs": [
        {
          "output_type": "stream",
          "text": [
            "    0m  0million  0nd   0s  0st  ...  yuan  zac  zac efron  zendaya  zone\n",
            "0  0.0       0.0  0.0  0.0  0.0  ...   0.0  0.0        0.0      0.0   0.0\n",
            "1  0.0       0.0  0.0  0.0  0.0  ...   0.0  0.0        0.0      0.0   0.0\n",
            "2  0.0       0.0  0.0  0.0  0.0  ...   0.0  0.0        0.0      0.0   0.0\n",
            "3  0.0       0.0  0.0  0.0  0.0  ...   0.0  0.0        0.0      0.0   0.0\n",
            "4  0.0       0.0  0.0  0.0  0.0  ...   0.0  0.0        0.0      0.0   0.0\n",
            "\n",
            "[5 rows x 2815 columns]\n"
          ],
          "name": "stdout"
        }
      ]
    }
  ]
}